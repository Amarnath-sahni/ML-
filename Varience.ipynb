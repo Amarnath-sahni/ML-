{
  "nbformat": 4,
  "nbformat_minor": 0,
  "metadata": {
    "colab": {
      "provenance": [],
      "authorship_tag": "ABX9TyOOtlEiur9r+6P4Jlu19CL6",
      "include_colab_link": true
    },
    "kernelspec": {
      "name": "python3",
      "display_name": "Python 3"
    },
    "language_info": {
      "name": "python"
    }
  },
  "cells": [
    {
      "cell_type": "markdown",
      "metadata": {
        "id": "view-in-github",
        "colab_type": "text"
      },
      "source": [
        "<a href=\"https://colab.research.google.com/github/Amarnath-sahni/ML-/blob/main/Varience.ipynb\" target=\"_parent\"><img src=\"https://colab.research.google.com/assets/colab-badge.svg\" alt=\"Open In Colab\"/></a>"
      ]
    },
    {
      "cell_type": "markdown",
      "source": [
        "What is Standard Deviation?\n",
        "low standard deviation means that most of the numbers are close to the mean (average) value.\n",
        "\n",
        "A high standard deviation means that the values are spread out over a wider range."
      ],
      "metadata": {
        "id": "mo7EjYbwf6B8"
      }
    },
    {
      "cell_type": "code",
      "execution_count": null,
      "metadata": {
        "colab": {
          "base_uri": "https://localhost:8080/"
        },
        "id": "Zc0Mt_MHfw3e",
        "outputId": "c890d4f9-b2a3-4adc-992d-e098c03a9027"
      },
      "outputs": [
        {
          "output_type": "stream",
          "name": "stdout",
          "text": [
            "37.84501153334721\n"
          ]
        }
      ],
      "source": [
        "#speed = [86,87,88,86,87,85,86]\n",
        "#The standard deviation is: 0.9\n",
        "import numpy\n",
        "\n",
        "#speed = [86,87,88,86,87,85,86]\n",
        "speed = [32,111,138,28,59,77,97]\n",
        "x= numpy.std(speed)\n",
        "print(x)\n"
      ]
    },
    {
      "cell_type": "markdown",
      "source": [
        "Variance"
      ],
      "metadata": {
        "id": "KIEAzk93i1hh"
      }
    },
    {
      "cell_type": "code",
      "source": [
        "import numpy\n",
        "\n",
        "speed = [32,111,138,28,59,77,97]\n",
        "\n",
        "x = numpy.var(speed)\n",
        "\n",
        "print(x)\n"
      ],
      "metadata": {
        "colab": {
          "base_uri": "https://localhost:8080/"
        },
        "id": "uHHEWcvTjeIo",
        "outputId": "9b702240-12c6-4ba4-de53-74231d1c1439"
      },
      "execution_count": null,
      "outputs": [
        {
          "output_type": "stream",
          "name": "stdout",
          "text": [
            "1432.2448979591834\n"
          ]
        }
      ]
    },
    {
      "cell_type": "markdown",
      "source": [
        "√1432.25 = 37.85"
      ],
      "metadata": {
        "id": "wRRz2qGSjqzo"
      }
    },
    {
      "cell_type": "code",
      "source": [
        "import numpy\n",
        "\n",
        "ages = [5,31,43,48,50,41,7,11,15,39,80,82,32,2,8,6,25,36,27,61,31]\n",
        "\n",
        "x = numpy.percentile(ages, 75)\n",
        "\n",
        "print(x)\n"
      ],
      "metadata": {
        "colab": {
          "base_uri": "https://localhost:8080/"
        },
        "id": "INY1G-l3jw-Z",
        "outputId": "4b0a591f-7c28-48f7-a7dd-6a33ea517ed2"
      },
      "execution_count": null,
      "outputs": [
        {
          "output_type": "stream",
          "name": "stdout",
          "text": [
            "43.0\n"
          ]
        }
      ]
    },
    {
      "cell_type": "markdown",
      "source": [
        "Data Distribution\n"
      ],
      "metadata": {
        "id": "nzUD9NkFlAKX"
      }
    },
    {
      "cell_type": "code",
      "source": [
        "import numpy\n",
        "\n",
        "x = numpy.random.uniform(0.0, 5.0, 250)\n",
        "\n",
        "print(x)\n"
      ],
      "metadata": {
        "colab": {
          "base_uri": "https://localhost:8080/"
        },
        "id": "wx0q9i1tk73H",
        "outputId": "1d4dec49-e36e-433f-c35d-adac93055191"
      },
      "execution_count": null,
      "outputs": [
        {
          "output_type": "stream",
          "name": "stdout",
          "text": [
            "[3.0858536  3.47154865 4.55011513 3.31008447 2.99975009 1.12817422\n",
            " 0.11532105 4.44781222 4.42106115 4.38134029 3.79640505 3.18534797\n",
            " 2.93472526 1.80958722 1.08759516 4.81994509 0.76577771 3.29638277\n",
            " 3.12272558 4.18891307 3.50162817 3.31344739 1.87405753 1.78892807\n",
            " 2.39231895 0.80646738 0.03332281 4.74954378 0.93271672 2.56190043\n",
            " 1.60901384 2.88622962 3.36254789 2.7356125  4.15923336 3.9703456\n",
            " 2.57836727 3.87534976 0.63469254 0.43262212 3.60339401 3.21285519\n",
            " 3.83850216 0.14332263 0.27307971 1.80252646 3.02088871 1.24531356\n",
            " 0.54583899 3.5578356  2.90582863 4.11848545 4.07596444 0.56736123\n",
            " 3.96195161 1.04763081 1.90907826 1.51959004 2.6552057  3.17057152\n",
            " 2.76570476 2.28033626 3.72126388 3.12515894 3.26134913 3.38321647\n",
            " 3.28845488 2.81596354 3.60573609 4.86232986 4.17917849 1.31384504\n",
            " 1.27586445 1.58714478 3.94160114 4.24291063 4.3859035  1.53809324\n",
            " 3.61282199 0.42205208 0.32420892 2.01061919 3.60190809 3.29818727\n",
            " 4.04507082 4.53036647 1.64299063 3.81691719 1.95966777 2.75204321\n",
            " 2.79565512 0.47480666 1.02654088 4.23891386 0.03927071 1.56601281\n",
            " 1.08813041 1.3595791  1.61596801 2.05816642 4.36459635 4.36272108\n",
            " 2.3322399  0.66645915 2.01820041 1.33909381 0.14081281 4.12492493\n",
            " 2.25527367 1.48277628 1.5082789  4.51154296 0.37355847 2.06279342\n",
            " 0.71496533 0.05899289 4.98622855 4.22736945 1.42194299 2.25265124\n",
            " 4.93173085 3.05996732 1.82830268 4.79513122 4.25170204 0.13810076\n",
            " 4.67520826 0.43190357 0.63387402 2.96276115 0.13788647 1.32264741\n",
            " 2.57007978 3.86079763 4.23006662 3.72947079 1.09147921 3.77498953\n",
            " 3.47551737 3.86067337 3.2143437  0.74887767 1.33692649 4.79687806\n",
            " 0.97177504 2.42613239 2.89709833 0.48135718 0.82586296 1.82200552\n",
            " 4.86483266 3.52249168 0.42753594 0.70964983 2.4200076  4.14837249\n",
            " 3.47890725 4.33029769 0.11101265 3.46498318 1.40655911 3.68354321\n",
            " 2.82132201 2.17217884 2.42683985 4.42599613 3.62103602 0.25684066\n",
            " 1.35241294 4.55671646 0.13248135 3.24209002 1.02774757 0.80125729\n",
            " 2.91806423 4.60361625 4.8920594  0.84197902 0.64253282 4.15967191\n",
            " 4.99551064 2.0103501  1.98885127 3.12022629 2.65542745 1.38668929\n",
            " 0.4712779  1.09287713 3.91861296 1.3041217  2.63042259 4.02480006\n",
            " 2.29399023 4.18488687 3.9757844  4.81809088 1.92400038 0.76672077\n",
            " 3.64988237 2.49565501 3.95026485 2.86810538 4.78055512 3.30310354\n",
            " 0.0646662  2.67181058 4.24347293 4.66863682 1.30439505 4.19532998\n",
            " 2.19301625 0.96690703 2.85625989 2.63381939 1.46792897 3.55012073\n",
            " 4.26469262 3.98677018 2.53532087 2.45632668 3.11406438 3.36947698\n",
            " 1.20028031 0.48657893 2.79850319 4.36321307 3.53861024 2.57622323\n",
            " 3.78788728 4.80348554 4.09843705 0.94091302 2.7913926  4.02793982\n",
            " 3.02891118 3.08007894 0.07783368 1.2955965  0.47229523 1.53459104\n",
            " 3.1673931  4.25323158 0.19251829 1.71876918 2.88334346 1.03891695\n",
            " 1.85509678 1.36547173 4.5827539  4.43773996]\n"
          ]
        }
      ]
    },
    {
      "cell_type": "code",
      "source": [
        "import numpy\n",
        "import matplotlib.pyplot as plt\n",
        "\n",
        "x = numpy.random.uniform(0.0, 5.0, 250)\n",
        "\n",
        "plt.hist(x, 5)\n",
        "plt.show()"
      ],
      "metadata": {
        "colab": {
          "base_uri": "https://localhost:8080/",
          "height": 430
        },
        "id": "fId4fFDplS7u",
        "outputId": "bf590cc1-6b72-482e-d5aa-aba935aace8d"
      },
      "execution_count": null,
      "outputs": [
        {
          "output_type": "display_data",
          "data": {
            "text/plain": [
              "<Figure size 640x480 with 1 Axes>"
            ],
            "image/png": "[encoded data removed]"
          },
          "metadata": {}
        }
      ]
    },
    {
      "cell_type": "markdown",
      "source": [
        "Big Data Distributions"
      ],
      "metadata": {
        "id": "H7Vfe76xl-4f"
      }
    },
    {
      "cell_type": "code",
      "source": [
        "import numpy\n",
        "import matplotlib.pyplot as plt\n",
        "\n",
        "x=numpy.random.uniform(0.0,5.0,1000)\n",
        "\n",
        "plt.hist(x, 100)\n",
        "plt.show()"
      ],
      "metadata": {
        "colab": {
          "base_uri": "https://localhost:8080/",
          "height": 430
        },
        "id": "_HQkYALBl_2P",
        "outputId": "540c074f-ba25-4cb2-8961-843ce89836e0"
      },
      "execution_count": null,
      "outputs": [
        {
          "output_type": "display_data",
          "data": {
            "text/plain": [
              "<Figure size 640x480 with 1 Axes>"
            ],
            "image/png": "[encoded data removed]"
          },
          "metadata": {}
        }
      ]
    }
  ]
}